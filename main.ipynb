{
 "cells": [
  {
   "attachments": {},
   "cell_type": "markdown",
   "metadata": {},
   "source": [
    "<h2> 0. IMPORT REQUIRED LIBRARIES </h2>"
   ]
  },
  {
   "cell_type": "code",
   "execution_count": null,
   "metadata": {},
   "outputs": [],
   "source": [
    "import requests\n",
    "from bs4 import BeautifulSoup\n",
    "import pandas as pd\n",
    "import time\n",
    "import logging"
   ]
  },
  {
   "attachments": {},
   "cell_type": "markdown",
   "metadata": {},
   "source": [
    "<h2> 1. SET INITIAL REQUIREMENTS </h2>"
   ]
  },
  {
   "cell_type": "code",
   "execution_count": null,
   "metadata": {},
   "outputs": [],
   "source": [
    "# Configure logging\n",
    "logging.basicConfig(level=logging.INFO, format='%(asctime)s - %(levelname)s - %(message)s')"
   ]
  },
  {
   "cell_type": "code",
   "execution_count": null,
   "metadata": {},
   "outputs": [],
   "source": [
    "query = 'monitor'\n",
    "base_url = 'https://listado.mercadolibre.com.ve/'\n",
    "products = []\n",
    "page_num = 1\n",
    "full_url = base_url + query"
   ]
  },
  {
   "attachments": {},
   "cell_type": "markdown",
   "metadata": {},
   "source": [
    "<h2>2. LOOP PAGES AND EXTRACT ALL PRODUCTS </h2>"
   ]
  },
  {
   "cell_type": "code",
   "execution_count": null,
   "metadata": {},
   "outputs": [],
   "source": [
    "while True:\n",
    "    url = f'{full_url}_Desde_{page_num}'\n",
    "    logging.info(f\"Scraping URL: {url}\")\n",
    "\n",
    "    try:\n",
    "        response = requests.get(url)\n",
    "        response.raise_for_status()  # Raise HTTPError for bad responses (4xx or 5xx)\n",
    "        soup = BeautifulSoup(response.text, 'html.parser')\n",
    "    except requests.exceptions.RequestException as e:\n",
    "        logging.error(f\"Error fetching URL {url}: {e}\")\n",
    "        break\n",
    "\n",
    "    product_elements = soup.find_all('li', class_='ui-search-layout__item')\n",
    "\n",
    "    if not product_elements:\n",
    "        logging.info(\"No more product elements found. Stopping scraping.\")\n",
    "        break\n",
    "\n",
    "    for element in product_elements:\n",
    "        title_element = element.find('h2', class_='ui-search-item__title')\n",
    "        title = title_element.text if title_element else None\n",
    "\n",
    "        price_element = element.find('span', class_='price-tag-fraction')\n",
    "        price = float(price_element.text.replace('.', '')) if price_element else None\n",
    "\n",
    "        link_element = element.find('a', class_='ui-search-link')\n",
    "        link = link_element['href'] if link_element else None\n",
    "\n",
    "        if price and price >= 50:\n",
    "            product = {'title': title, 'price': price, 'link': link}\n",
    "            products.append(product)\n",
    "\n",
    "    page_num += 50\n",
    "    time.sleep(3)  # Respectful delay to avoid overloading the server\n",
    "\n",
    "df = pd.DataFrame(products)"
   ]
  },
  {
   "attachments": {},
   "cell_type": "markdown",
   "metadata": {},
   "source": [
    "<h2>3. SORT AND FILTER EXTRACTED DATA </h2>"
   ]
  },
  {
   "cell_type": "code",
   "execution_count": null,
   "metadata": {},
   "outputs": [],
   "source": [
    "df = df.sort_values(by='price', ascending=True)\n",
    "df = df[(df['price'] >= 100) & (df['price'] < 1000)].reset_index(drop=True)\n",
    "df"
   ]
  },
  {
   "attachments": {},
   "cell_type": "markdown",
   "metadata": {},
   "source": [
    "<h2>4. EXPORT FINAL DATAFRAME </h2>"
   ]
  },
  {
   "cell_type": "code",
   "execution_count": null,
   "metadata": {},
   "outputs": [],
   "source": [
    "try:\n",
    "    df.to_excel('products.xlsx', index=False)\n",
    "    logging.info(f\"DataFrame exported to products.xlsx\")\n",
    "except Exception as e:\n",
    "    logging.error(f\"Error exporting to Excel: {e}\")"
   ]
  }
 ],
 "metadata": {
  "kernelspec": {
   "display_name": "Python 3",
   "language": "python",
   "name": "python3"
  },
  "language_info": {
   "codemirror_mode": {
    "name": "ipython",
    "version": 3
   },
   "file_extension": ".py",
   "mimetype": "text/x-python",
   "name": "python",
   "nbconvert_exporter": "python",
   "pygments_lexer": "ipython3",
   "version": "3.11.1"
  },
  "orig_nbformat": 4
 },
 "nbformat": 4,
 "nbformat_minor": 2
}
