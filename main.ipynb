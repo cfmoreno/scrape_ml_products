{
 "cells": [
  {
   "attachments": {},
   "cell_type": "markdown",
   "metadata": {},
   "source": [
    "<h2> 0. IMPORT REQUIRED LIBRARIES </h2>"
   ]
  },
  {
   "cell_type": "code",
   "execution_count": null,
   "metadata": {},
   "outputs": [],
   "source": [
    "import requests\n",
    "from bs4 import BeautifulSoup\n",
    "import pandas as pd\n",
    "import time"
   ]
  },
  {
   "attachments": {},
   "cell_type": "markdown",
   "metadata": {},
   "source": [
    "<h2> 1. SET INITIAL REQUIREMENTS </h2>"
   ]
  },
  {
   "cell_type": "code",
   "execution_count": null,
   "metadata": {},
   "outputs": [],
   "source": [
    "# Set the query term to look for\n",
    "query = 'monitor'\n",
    "\n",
    "# Set the URL to scrape from in a variable\n",
    "base_url = 'https://listado.mercadolibre.com.ve/'+ query\n",
    "\n",
    "# Create an empty list to store the product info\n",
    "products = []\n",
    "\n",
    "# Start variable with page number\n",
    "page_num = 1"
   ]
  },
  {
   "attachments": {},
   "cell_type": "markdown",
   "metadata": {},
   "source": [
    "<h2>2. LOOP PAGES AND EXTRACT ALL PRODUCTS </h2>"
   ]
  },
  {
   "cell_type": "code",
   "execution_count": null,
   "metadata": {},
   "outputs": [],
   "source": [
    "# Set a loop to go through the pages\n",
    "while True:\n",
    "    # Set the URL for the current page number\n",
    "    url = f'{base_url}_Desde_{page_num}'\n",
    "\n",
    "    # Make a GET request to the URL and parse the HTML response\n",
    "    response = requests.get(url)\n",
    "    soup = BeautifulSoup(response.text, 'html.parser')\n",
    "\n",
    "    # Find all product elements on the page\n",
    "    product_elements = soup.find_all('li', class_='ui-search-layout__item')\n",
    "    \n",
    "    # If there are no more products, break out of the loop\n",
    "    if not product_elements:\n",
    "        break\n",
    "    \n",
    "    for element in product_elements:\n",
    "        # Extract the relevant information about each product\n",
    "        title_element = element.find('h2', class_='ui-search-item__title')\n",
    "        title = title_element.text if title_element else None\n",
    "        \n",
    "        price_element = element.find('span', class_='price-tag-fraction')\n",
    "        price = float(price_element.text.replace('.', '')) if price_element else None\n",
    "        \n",
    "        link_element = element.find('a', class_='ui-search-link')\n",
    "        link = link_element['href'] if link_element else None\n",
    "        \n",
    "        # Only add the product to the list if its price is greater than or equal to 50\n",
    "        if price and price >= 50:\n",
    "            # Store the product information in a dictionary and add it to the list\n",
    "            product = {'title': title, 'price': price, 'link': link}\n",
    "            products.append(product)\n",
    "    \n",
    "    # Increment the page number and add a delay before making the next request\n",
    "    page_num += 50\n",
    "    # Set time delay to 3 seconds \n",
    "    time.sleep(3)\n",
    "\n",
    "# Create a pandas DataFrame from the list of products\n",
    "df = pd.DataFrame(products)"
   ]
  },
  {
   "attachments": {},
   "cell_type": "markdown",
   "metadata": {},
   "source": [
    "<h2>3. SORT AND FILTER EXTRACTED DATA </h2>"
   ]
  },
  {
   "cell_type": "code",
   "execution_count": null,
   "metadata": {},
   "outputs": [],
   "source": [
    "# Display the resulting DataFrame\n",
    "df"
   ]
  },
  {
   "cell_type": "code",
   "execution_count": null,
   "metadata": {},
   "outputs": [],
   "source": [
    "# Sort the DataFrame by price in ascending order\n",
    "df = df.sort_values(by='price', ascending=True)"
   ]
  },
  {
   "cell_type": "code",
   "execution_count": null,
   "metadata": {},
   "outputs": [],
   "source": [
    "# Remove the products with prices that are not greater than or equal to 100\n",
    "df = df[df['price'] >= 100]"
   ]
  },
  {
   "cell_type": "code",
   "execution_count": null,
   "metadata": {},
   "outputs": [],
   "source": [
    "# Remove the products with prices that are greater than or equal to 1000\n",
    "df = df[df['price'] < 1000]"
   ]
  },
  {
   "cell_type": "code",
   "execution_count": null,
   "metadata": {},
   "outputs": [],
   "source": [
    "# Reset the index of the DataFrame\n",
    "df = df.reset_index(drop=True)"
   ]
  },
  {
   "cell_type": "code",
   "execution_count": null,
   "metadata": {},
   "outputs": [],
   "source": [
    "# Check the resulting DataFrame\n",
    "df"
   ]
  },
  {
   "attachments": {},
   "cell_type": "markdown",
   "metadata": {},
   "source": [
    "<h2>4. EXPORT FINAL DATAFRAME </h2>"
   ]
  },
  {
   "cell_type": "code",
   "execution_count": null,
   "metadata": {},
   "outputs": [],
   "source": [
    "# Save the DataFrame to an Excel file\n",
    "df.to_excel('products.xlsx', index=False)"
   ]
  }
 ],
 "metadata": {
  "kernelspec": {
   "display_name": "Python 3",
   "language": "python",
   "name": "python3"
  },
  "language_info": {
   "codemirror_mode": {
    "name": "ipython",
    "version": 3
   },
   "file_extension": ".py",
   "mimetype": "text/x-python",
   "name": "python",
   "nbconvert_exporter": "python",
   "pygments_lexer": "ipython3",
   "version": "3.11.1"
  },
  "orig_nbformat": 4
 },
 "nbformat": 4,
 "nbformat_minor": 2
}
